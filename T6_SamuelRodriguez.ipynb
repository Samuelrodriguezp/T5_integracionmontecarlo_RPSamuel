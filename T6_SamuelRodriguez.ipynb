{
 "cells": [
  {
   "cell_type": "markdown",
   "metadata": {},
   "source": [
    "<img style=\"float: left; margin: 30px 15px 15px 15px;\" src=\"https://encrypted-tbn0.gstatic.com/images?q=tbn:ANd9GcTFzQj91sOlkeDFkg5HDbjtR4QJYmLXkfMNig&usqp=CAU\" width=\"400\" height=\"500\" /> \n",
    "    \n",
    "    \n",
    "### <font color='navy'> Simulación matemática. \n",
    "\n",
    "**Nombres:** Samuel Rodríguez Partida\n",
    "\n",
    "**Fecha:** 07 de octubre del 2022.\n",
    "\n",
    "**Expediente** : ic727594\n",
    "    \n",
    "**Profesor:** Oscar David Jaramillo Zuluaga.\n",
    "    \n",
    "**Link Github**: Link con el enlace del repositorio del creador del proyecto\n",
    "\n",
    "# Tarea 5:"
   ]
  },
  {
   "cell_type": "markdown",
   "metadata": {},
   "source": [
    "## Enunciado de tarea (Transcibirlo)\n",
    "> Descripción de la tarea"
   ]
  },
  {
   "cell_type": "markdown",
   "metadata": {},
   "source": [
    "### Ejercicio 1: (enunciado) Transcribirlo"
   ]
  },
  {
   "cell_type": "markdown",
   "metadata": {},
   "source": [
    "Código de solución estudiante 1"
   ]
  },
  {
   "cell_type": "code",
   "execution_count": 9,
   "metadata": {},
   "outputs": [],
   "source": [
    "#importamos librerías necesarias\n",
    "import numpy as np\n",
    "import pandas as pd\n",
    "\n",
    "#Crear mi función montecarlo\n",
    "def montecarlo1(f, a, b, N):\n",
    "#Puntos uniformemente distribuidos\n",
    "    ui = np.random.uniform(a, b, N)\n",
    "    \n",
    "    #Evaluar la función en los puntos aleatorios, obtener el promedio y multiplicarlo por el intervalo\n",
    "    integral = ((b-a)/N)*np.sum(f(ui))\n",
    "    return integral\n",
    "\n",
    "\n",
    "\n"
   ]
  },
  {
   "cell_type": "code",
   "execution_count": 13,
   "metadata": {},
   "outputs": [],
   "source": [
    "#Definimos nuestras funciones\n",
    "def f1(x):\n",
    "    return np.log10(2*x)+8**x\n",
    "\n",
    "def f2(x):\n",
    "    return (2**x)/(x**4)\n",
    "\n",
    "a,b = 1, 5\n",
    "\n",
    "#Defino mis cantidades de términos\n",
    "N = np.logspace(0,5,6).astype(int)\n"
   ]
  },
  {
   "cell_type": "code",
   "execution_count": 14,
   "metadata": {},
   "outputs": [
    {
     "data": {
      "text/html": [
       "<div>\n",
       "<style scoped>\n",
       "    .dataframe tbody tr th:only-of-type {\n",
       "        vertical-align: middle;\n",
       "    }\n",
       "\n",
       "    .dataframe tbody tr th {\n",
       "        vertical-align: top;\n",
       "    }\n",
       "\n",
       "    .dataframe thead th {\n",
       "        text-align: right;\n",
       "    }\n",
       "</style>\n",
       "<table border=\"1\" class=\"dataframe\">\n",
       "  <thead>\n",
       "    <tr style=\"text-align: right;\">\n",
       "      <th></th>\n",
       "      <th>Aprox f1</th>\n",
       "      <th>Aprox f2</th>\n",
       "    </tr>\n",
       "    <tr>\n",
       "      <th>Cantidad de términos</th>\n",
       "      <th></th>\n",
       "      <th></th>\n",
       "    </tr>\n",
       "  </thead>\n",
       "  <tbody>\n",
       "    <tr>\n",
       "      <th>1</th>\n",
       "      <td>41.348606</td>\n",
       "      <td>0.227891</td>\n",
       "    </tr>\n",
       "    <tr>\n",
       "      <th>10</th>\n",
       "      <td>13783.122572</td>\n",
       "      <td>0.884055</td>\n",
       "    </tr>\n",
       "    <tr>\n",
       "      <th>100</th>\n",
       "      <td>17668.515091</td>\n",
       "      <td>0.888973</td>\n",
       "    </tr>\n",
       "    <tr>\n",
       "      <th>1000</th>\n",
       "      <td>17360.327592</td>\n",
       "      <td>1.01383</td>\n",
       "    </tr>\n",
       "    <tr>\n",
       "      <th>10000</th>\n",
       "      <td>15553.927368</td>\n",
       "      <td>1.000763</td>\n",
       "    </tr>\n",
       "    <tr>\n",
       "      <th>100000</th>\n",
       "      <td>15872.169434</td>\n",
       "      <td>1.001374</td>\n",
       "    </tr>\n",
       "  </tbody>\n",
       "</table>\n",
       "</div>"
      ],
      "text/plain": [
       "                          Aprox f1  Aprox f2\n",
       "Cantidad de términos                        \n",
       "1                        41.348606  0.227891\n",
       "10                    13783.122572  0.884055\n",
       "100                   17668.515091  0.888973\n",
       "1000                  17360.327592   1.01383\n",
       "10000                 15553.927368  1.000763\n",
       "100000                15872.169434  1.001374"
      ]
     },
     "execution_count": 14,
     "metadata": {},
     "output_type": "execute_result"
    }
   ],
   "source": [
    "#Crear dataframe\n",
    "tabla = pd.DataFrame(index=N, columns = ['Aprox f1', 'Aprox f2'])\n",
    "\n",
    "#Agregar nombre al índice\n",
    "tabla.index.name = 'Cantidad de términos'\n",
    "\n",
    "#Generar los valores de la tabla\n",
    "for n in N:\n",
    "    aprox_f1 = montecarlo1(f1, a, b, n)\n",
    "    aprox_f2 = montecarlo1(f2, a, b, n)\n",
    "    \n",
    "    tabla.loc[n, 'Aprox f1'] = aprox_f1\n",
    "    tabla.loc[n, 'Aprox f2'] = aprox_f2\n",
    "    \n",
    "    \n",
    "tabla\n"
   ]
  },
  {
   "cell_type": "code",
   "execution_count": null,
   "metadata": {},
   "outputs": [],
   "source": [
    "# Código de solución estudiante 2\n",
    ".\n",
    ".\n",
    ".\n",
    ".\n"
   ]
  },
  {
   "cell_type": "markdown",
   "metadata": {},
   "source": [
    "### Respuesta planteada en el ejercicio usando (markdown)\n",
    " La respuesta es ........."
   ]
  }
 ],
 "metadata": {
  "kernelspec": {
   "display_name": "Python 3 (ipykernel)",
   "language": "python",
   "name": "python3"
  },
  "language_info": {
   "codemirror_mode": {
    "name": "ipython",
    "version": 3
   },
   "file_extension": ".py",
   "mimetype": "text/x-python",
   "name": "python",
   "nbconvert_exporter": "python",
   "pygments_lexer": "ipython3",
   "version": "3.9.12"
  }
 },
 "nbformat": 4,
 "nbformat_minor": 2
}
